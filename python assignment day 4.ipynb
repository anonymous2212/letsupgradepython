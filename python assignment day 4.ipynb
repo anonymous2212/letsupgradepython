{
 "cells": [
  {
   "cell_type": "markdown",
   "metadata": {
    "collapsed": false
   },
   "source": [
    "                                   PYTHON ASSIGNMENT DAY 4"
   ]
  },
  {
   "cell_type": "raw",
   "metadata": {
    "collapsed": false
   },
   "source": [
    "Q1 print the first armstrong number in the range of 1042000 to 702648265 and exit the loop as first as you encounter the first armstrong number.use while loop."
   ]
  },
  {
   "cell_type": "code",
   "execution_count": 1,
   "metadata": {
    "collapsed": false,
    "scrolled": true
   },
   "outputs": [
    {
     "name": "stdout",
     "output_type": "stream",
     "text": [
      "first armstrong no is= 4782969\n"
     ]
    }
   ],
   "source": [
    "for i in range(1042000,702648265):\n",
    "    num=i\n",
    "    n=len(str(i))\n",
    "    while num>0:\n",
    "        sum=0\n",
    "        a=num%10\n",
    "        sum=sum+a**n\n",
    "        num=num//10\n",
    "        if i==sum:\n",
    "            print(\"first armstrong no is=\",i)\n",
    "            break"
   ]
  }
 ],
 "metadata": {
  "kernelspec": {
   "display_name": "Python 3 (system-wide)",
   "language": "python",
   "metadata": {
    "cocalc": {
     "description": "Python 3 programming language",
     "priority": 100,
     "url": "https://www.python.org/"
    }
   },
   "name": "python3"
  },
  "language_info": {
   "codemirror_mode": {
    "name": "ipython",
    "version": 3
   },
   "file_extension": ".py",
   "mimetype": "text/x-python",
   "name": "python",
   "nbconvert_exporter": "python",
   "pygments_lexer": "ipython3",
   "version": "3.8.2"
  }
 },
 "nbformat": 4,
 "nbformat_minor": 4
}