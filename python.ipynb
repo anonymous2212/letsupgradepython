{
 "cells": [
  {
   "cell_type": "markdown",
   "metadata": {
    "collapsed": false
   },
   "source": [
    "Q1 list and its default function"
   ]
  },
  {
   "cell_type": "code",
   "execution_count": 1,
   "metadata": {
    "collapsed": false
   },
   "outputs": [
    {
     "name": "stdout",
     "output_type": "stream",
     "text": [
      "after pop\n",
      "[1, 2, 3, 'aman', 'rahul']\n"
     ]
    }
   ],
   "source": [
    "a=[1,2,3,4,'aman','rahul']\n",
    "a.pop(3)\n",
    "print(\"after pop\")\n",
    "print(a)"
   ]
  },
  {
   "cell_type": "code",
   "execution_count": 2,
   "metadata": {
    "collapsed": false
   },
   "outputs": [
    {
     "name": "stdout",
     "output_type": "stream",
     "text": [
      "after extend\n",
      "[1, 2, 3, 'aman', 'rahul', 'k', 'i', 'r', 'a', 'n']\n"
     ]
    }
   ],
   "source": [
    "print(\"after extend\")\n",
    "a.extend('kiran')\n",
    "print(a)"
   ]
  },
  {
   "cell_type": "code",
   "execution_count": 3,
   "metadata": {
    "collapsed": false
   },
   "outputs": [
    {
     "name": "stdout",
     "output_type": "stream",
     "text": [
      "after copy \n",
      "[1, 2, 3, 'aman', 'rahul', 'k', 'i', 'r', 'a', 'n']\n"
     ]
    }
   ],
   "source": [
    "print(\"after copy \")\n",
    "b=a.copy()\n",
    "print(b)"
   ]
  },
  {
   "cell_type": "code",
   "execution_count": 4,
   "metadata": {
    "collapsed": false
   },
   "outputs": [
    {
     "name": "stdout",
     "output_type": "stream",
     "text": [
      "after inserting\n",
      "[1, 2, 3, 4, 'aman', 'rahul', 'k', 'i', 'r', 'a', 'n']\n"
     ]
    }
   ],
   "source": [
    "print(\"after inserting\" )\n",
    "a.insert(3,4)\n",
    "print(a)"
   ]
  },
  {
   "cell_type": "code",
   "execution_count": 5,
   "metadata": {
    "collapsed": false
   },
   "outputs": [
    {
     "name": "stdout",
     "output_type": "stream",
     "text": [
      "reversing the list \n",
      "['n', 'a', 'r', 'i', 'k', 'rahul', 'aman', 4, 3, 2, 1]\n"
     ]
    }
   ],
   "source": [
    "print(\"reversing the list \")\n",
    "a.reverse()\n",
    "print(a)"
   ]
  },
  {
   "cell_type": "markdown",
   "metadata": {
    "collapsed": false
   },
   "source": [
    "Q2 dictionary and its functions"
   ]
  },
  {
   "cell_type": "code",
   "execution_count": 6,
   "metadata": {
    "collapsed": false
   },
   "outputs": [
    {
     "name": "stdout",
     "output_type": "stream",
     "text": [
      "after pop\n",
      "{2: 'rajesh', 3: 'rohit'}\n"
     ]
    }
   ],
   "source": [
    "sd={1:'jeetu',2:'rajesh',3:\"rohit\"}\n",
    "print(\"after pop\")\n",
    "sd.pop(1)\n",
    "print(sd)"
   ]
  },
  {
   "cell_type": "code",
   "execution_count": 7,
   "metadata": {
    "collapsed": false
   },
   "outputs": [
    {
     "name": "stdout",
     "output_type": "stream",
     "text": [
      "{2: 'rajesh', 3: 'rohit'}\n",
      "after update\n",
      "{2: 'rajesh', 3: 'rohit', 1: 'jeetu'}\n"
     ]
    }
   ],
   "source": [
    "print(sd)\n",
    "d={1:\"jeetu\"}\n",
    "print(\"after update\")\n",
    "sd.update(d)\n",
    "print(sd)"
   ]
  },
  {
   "cell_type": "code",
   "execution_count": 8,
   "metadata": {
    "collapsed": false
   },
   "outputs": [
    {
     "name": "stdout",
     "output_type": "stream",
     "text": [
      "dict_keys([2, 3, 1])\n"
     ]
    }
   ],
   "source": [
    "print(sd.keys())"
   ]
  },
  {
   "cell_type": "code",
   "execution_count": 9,
   "metadata": {
    "collapsed": false
   },
   "outputs": [
    {
     "name": "stdout",
     "output_type": "stream",
     "text": [
      "{1: 'letsupgrade', 2: 'letsupgrade', 3: 'letsupgrade'}\n"
     ]
    }
   ],
   "source": [
    "key=(1,2,3)\n",
    "value=(\"letsupgrade\")\n",
    "a=dict.fromkeys(key,value)\n",
    "print(a)"
   ]
  },
  {
   "cell_type": "code",
   "execution_count": 10,
   "metadata": {
    "collapsed": false
   },
   "outputs": [
    {
     "name": "stdout",
     "output_type": "stream",
     "text": [
      "clearing dictionary\n",
      "{}\n"
     ]
    }
   ],
   "source": [
    "print(\"clearing dictionary\")\n",
    "sd.clear()\n",
    "print(sd)"
   ]
  },
  {
   "cell_type": "markdown",
   "metadata": {
    "collapsed": false
   },
   "source": [
    "Q3 sets and its default function"
   ]
  },
  {
   "cell_type": "code",
   "execution_count": 11,
   "metadata": {
    "collapsed": false
   },
   "outputs": [
    {
     "name": "stdout",
     "output_type": "stream",
     "text": [
      "{2, 3, 'jd'}\n"
     ]
    }
   ],
   "source": [
    "a={1,2,3,4,\"jd\",'ky'}\n",
    "c={2,3,5,\"jd\",'jit'}\n",
    "w=a.intersection(c)\n",
    "print(w)"
   ]
  },
  {
   "cell_type": "code",
   "execution_count": 12,
   "metadata": {
    "collapsed": false,
    "scrolled": true
   },
   "outputs": [
    {
     "name": "stdout",
     "output_type": "stream",
     "text": [
      "{1, 2, 3, 4, 'jit', 5, 'ky', 'jd'}\n"
     ]
    }
   ],
   "source": [
    "q=a.union(c)\n",
    "print(q)"
   ]
  },
  {
   "cell_type": "code",
   "execution_count": 13,
   "metadata": {
    "collapsed": false,
    "scrolled": true
   },
   "outputs": [
    {
     "name": "stdout",
     "output_type": "stream",
     "text": [
      "{'jit', 5}\n"
     ]
    }
   ],
   "source": [
    "t=c.difference(a)\n",
    "print(t)\n"
   ]
  },
  {
   "cell_type": "code",
   "execution_count": 0,
   "metadata": {
    "collapsed": false
   },
   "outputs": [
   ],
   "source": [
   ]
  },
  {
   "cell_type": "code",
   "execution_count": 14,
   "metadata": {
    "collapsed": false
   },
   "outputs": [
    {
     "name": "stdout",
     "output_type": "stream",
     "text": [
      "{1, 2, 3, 4, 'ky', 'jd'}\n"
     ]
    }
   ],
   "source": [
    "b=a.copy()\n",
    "print(b)\n"
   ]
  },
  {
   "cell_type": "code",
   "execution_count": 15,
   "metadata": {
    "collapsed": false,
    "scrolled": true
   },
   "outputs": [
    {
     "name": "stdout",
     "output_type": "stream",
     "text": [
      "{1, 2, 3, 4, 6, 'ky', 'jd'}\n"
     ]
    }
   ],
   "source": [
    "a.add(6)\n",
    "print(a)"
   ]
  },
  {
   "cell_type": "markdown",
   "metadata": {
    "collapsed": false
   },
   "source": [
    "Q4 tuples and explore its  function"
   ]
  },
  {
   "cell_type": "code",
   "execution_count": 16,
   "metadata": {
    "collapsed": false
   },
   "outputs": [
    {
     "name": "stdout",
     "output_type": "stream",
     "text": [
      "4\n"
     ]
    }
   ],
   "source": [
    "a=(1,2,3,3,\"jit\",3,'kuy',3)\n",
    "w=a.count(3)\n",
    "print(w)"
   ]
  },
  {
   "cell_type": "code",
   "execution_count": 17,
   "metadata": {
    "collapsed": false
   },
   "outputs": [
    {
     "name": "stdout",
     "output_type": "stream",
     "text": [
      "6\n"
     ]
    }
   ],
   "source": [
    "j=a.index('kuy')\n",
    "print(j)"
   ]
  },
  {
   "cell_type": "code",
   "execution_count": 18,
   "metadata": {
    "collapsed": false
   },
   "outputs": [
    {
     "name": "stdout",
     "output_type": "stream",
     "text": [
      "length of the tuple\n",
      "8\n"
     ]
    }
   ],
   "source": [
    "print(\"length of the tuple\")\n",
    "print(len(a))\n"
   ]
  },
  {
   "cell_type": "code",
   "execution_count": 19,
   "metadata": {
    "collapsed": false
   },
   "outputs": [
    {
     "name": "stdout",
     "output_type": "stream",
     "text": [
      "adding two tuple \n",
      "(2, 35, 9, 4, 10, 15, 'sub')\n"
     ]
    }
   ],
   "source": [
    "b=(2,35,9)\n",
    "d=(4,10,15,'sub')\n",
    "c=b+d\n",
    "print(\"adding two tuple \")\n",
    "print(c)\n"
   ]
  },
  {
   "cell_type": "code",
   "execution_count": 20,
   "metadata": {
    "collapsed": false
   },
   "outputs": [
    {
     "name": "stdout",
     "output_type": "stream",
     "text": [
      "('rohit', 'mon', 'jit', 'sam')\n"
     ]
    }
   ],
   "source": [
    "e=('rohit','mon','raj','sam')\n",
    "m=list(e)\n",
    "m[2]='jit'\n",
    "e=tuple(m)\n",
    "print(e)"
   ]
  },
  {
   "cell_type": "markdown",
   "metadata": {
    "collapsed": false
   },
   "source": [
    "Q4 string and explore its functions"
   ]
  },
  {
   "cell_type": "code",
   "execution_count": 21,
   "metadata": {
    "collapsed": false
   },
   "outputs": [
    {
     "name": "stdout",
     "output_type": "stream",
     "text": [
      "GEEKYSHOWS\n"
     ]
    }
   ],
   "source": [
    "str1=\"geekyshows\"\n",
    "print(str1.upper())"
   ]
  },
  {
   "cell_type": "code",
   "execution_count": 22,
   "metadata": {
    "collapsed": false
   },
   "outputs": [
    {
     "name": "stdout",
     "output_type": "stream",
     "text": [
      "False\n"
     ]
    }
   ],
   "source": [
    "str2=\"geekyshows\"\n",
    "b=str2.isupper()\n",
    "print(b)"
   ]
  },
  {
   "cell_type": "code",
   "execution_count": 23,
   "metadata": {
    "collapsed": false
   },
   "outputs": [
    {
     "name": "stdout",
     "output_type": "stream",
     "text": [
      "False\n"
     ]
    }
   ],
   "source": [
    "c=str2.isspace()\n",
    "print(c)\n"
   ]
  },
  {
   "cell_type": "code",
   "execution_count": 24,
   "metadata": {
    "collapsed": false
   },
   "outputs": [
    {
     "name": "stdout",
     "output_type": "stream",
     "text": [
      "pythonupgrade\n"
     ]
    }
   ],
   "source": [
    "str4='pythonupgrade'\n",
    "new='lets'\n",
    "old='python'\n",
    "x=str4.replace('lets','old')\n",
    "print(x)"
   ]
  },
  {
   "cell_type": "code",
   "execution_count": 25,
   "metadata": {
    "collapsed": false
   },
   "outputs": [
    {
     "name": "stdout",
     "output_type": "stream",
     "text": [
      "['how', 'are', 'you']\n"
     ]
    }
   ],
   "source": [
    "str5=\"how-are-you\"\n",
    "o=str5.split('-')\n",
    "print(o)"
   ]
  }
 ],
 "metadata": {
  "kernelspec": {
   "display_name": "Python 3 (system-wide)",
   "language": "python",
   "metadata": {
    "cocalc": {
     "description": "Python 3 programming language",
     "priority": 100,
     "url": "https://www.python.org/"
    }
   },
   "name": "python3"
  }
 },
 "nbformat": 4,
 "nbformat_minor": 4
}